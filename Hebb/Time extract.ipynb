{
 "cells": [
  {
   "cell_type": "code",
   "execution_count": 10,
   "id": "initial_id",
   "metadata": {
    "collapsed": true,
    "ExecuteTime": {
     "end_time": "2024-03-11T16:54:25.321791500Z",
     "start_time": "2024-03-11T16:54:25.311794400Z"
    }
   },
   "outputs": [],
   "source": [
    "import pandas as pd\n",
    "import numpy as np"
   ]
  },
  {
   "cell_type": "code",
   "execution_count": 6,
   "outputs": [],
   "source": [
    "df = pd.read_csv('../3ytc61d048/data_3ytc61d048.csv')\n",
    "last_50_columns = df.iloc[:, -50:]"
   ],
   "metadata": {
    "collapsed": false,
    "ExecuteTime": {
     "end_time": "2024-03-13T14:53:08.503713300Z",
     "start_time": "2024-03-13T14:53:08.447778500Z"
    }
   },
   "id": "b892b6dcff1cb0c7"
  },
  {
   "cell_type": "code",
   "execution_count": 8,
   "outputs": [
    {
     "data": {
      "text/plain": "13.137388059701493"
     },
     "execution_count": 8,
     "metadata": {},
     "output_type": "execute_result"
    }
   ],
   "source": [
    "def find_index_of_spikes(column, spike_value):\n",
    "    index = column[column == spike_value].index\n",
    "    return np.array(index) if not index.empty else np.nan\n",
    "\n",
    "index_of_10 = last_50_columns.apply(find_index_of_spikes, args=(10.0,))\n",
    "index_of_10.dropna(inplace = True)\n",
    "max_len = max(map(len, index_of_10))\n",
    "filled_lists = [list(filter(None, x)) + [np.nan] * (max_len - len(x)) for x in index_of_10]\n",
    "res = np.array(filled_lists)\n",
    "\n",
    "def find_tau_max(matrix, dt):\n",
    "    count = 0\n",
    "    sum_diff = 0\n",
    "    for col in range(matrix.shape[1]):\n",
    "        for i in range(len(matrix[:, col])):\n",
    "            if not np.isnan(matrix[i][col]):\n",
    "                for j in range(i+1, len(matrix[:, col])):\n",
    "                    if not np.isnan(matrix[j][col]):\n",
    "                        diff = abs(matrix[i][col] - matrix[j][col])\n",
    "                        print(diff)\n",
    "                        sum_diff += diff\n",
    "                        count += 1\n",
    "    return (sum_diff / count) * 2 * dt\n",
    "\n",
    "result = find_tau_max(res, 0.1)\n",
    "result"
   ],
   "metadata": {
    "collapsed": false,
    "ExecuteTime": {
     "end_time": "2024-03-13T14:53:33.830736600Z",
     "start_time": "2024-03-13T14:53:33.814987300Z"
    }
   },
   "id": "c68db2e75c870363"
  },
  {
   "cell_type": "code",
   "execution_count": 11,
   "outputs": [
    {
     "data": {
      "text/plain": "array([[ 28., 167., 311., 455.,  nan,  nan,  nan,  nan,  nan,  nan],\n       [ 28., 167., 311., 455.,  nan,  nan,  nan,  nan,  nan,  nan],\n       [ 39., 180., 323., 467.,  nan,  nan,  nan,  nan,  nan,  nan],\n       [ 28., 167., 312., 456.,  nan,  nan,  nan,  nan,  nan,  nan],\n       [ 33., 172., 323., 461.,  nan,  nan,  nan,  nan,  nan,  nan],\n       [ 28., 167., 312., 455.,  nan,  nan,  nan,  nan,  nan,  nan],\n       [ 33., 172., 325., 469.,  nan,  nan,  nan,  nan,  nan,  nan],\n       [ 31., 170., 317., 461.,  nan,  nan,  nan,  nan,  nan,  nan],\n       [ 28.,  39., 169., 311., 330., 458., 476.,  nan,  nan,  nan],\n       [ 30., 170., 317., 461.,  nan,  nan,  nan,  nan,  nan,  nan],\n       [ 30.,  39., 170., 317., 461.,  nan,  nan,  nan,  nan,  nan],\n       [ 30.,  39., 170., 317., 461.,  nan,  nan,  nan,  nan,  nan],\n       [ 28.,  33., 170., 312., 320., 458., 464.,  nan,  nan,  nan],\n       [ 30.,  39., 170., 318., 462.,  nan,  nan,  nan,  nan,  nan],\n       [ 28.,  34., 170., 313., 328., 462.,  nan,  nan,  nan,  nan],\n       [ 30.,  39., 171., 317., 346., 463.,  nan,  nan,  nan,  nan],\n       [ 30.,  39., 172., 319., 340., 463.,  nan,  nan,  nan,  nan],\n       [ 28.,  32., 171., 312., 320., 463.,  nan,  nan,  nan,  nan],\n       [ 28.,  32., 171., 312., 319., 463.,  nan,  nan,  nan,  nan],\n       [ 30.,  43., 172., 317., 341., 464.,  nan,  nan,  nan,  nan],\n       [ 30., 172., 317., 464.,  nan,  nan,  nan,  nan,  nan,  nan],\n       [ 30., 172., 317., 353., 463., 468.,  nan,  nan,  nan,  nan],\n       [ 30., 174., 318., 360., 465.,  nan,  nan,  nan,  nan,  nan],\n       [ 30., 174., 318., 360., 465.,  nan,  nan,  nan,  nan,  nan],\n       [ 30., 175., 316., 326., 465.,  nan,  nan,  nan,  nan,  nan],\n       [ 30., 174., 314., 323., 464.,  nan,  nan,  nan,  nan,  nan],\n       [ 28.,  31., 174., 314., 321., 464., 474.,  nan,  nan,  nan],\n       [ 28.,  32., 173., 313., 320., 464., 469.,  nan,  nan,  nan],\n       [ 28.,  32., 172., 314., 321., 464., 469.,  nan,  nan,  nan],\n       [ 30., 176., 317., 328., 465.,  nan,  nan,  nan,  nan,  nan],\n       [ 30., 179., 318., 466.,  nan,  nan,  nan,  nan,  nan,  nan],\n       [ 28.,  32., 174., 315., 320., 465.,  nan,  nan,  nan,  nan],\n       [ 30.,  38., 176., 318., 331., 464., 467.,  nan,  nan,  nan],\n       [ 28.,  32., 178., 315., 319., 467.,  nan,  nan,  nan,  nan],\n       [ 29.,  32., 179., 318., 331., 466.,  nan,  nan,  nan,  nan],\n       [ 29.,  34., 178., 317., 320., 466.,  nan,  nan,  nan,  nan],\n       [ 30., 182., 318., 468.,  nan,  nan,  nan,  nan,  nan,  nan],\n       [ 29.,  35., 180., 318., 467.,  nan,  nan,  nan,  nan,  nan],\n       [ 29.,  35., 180., 317., 320., 468.,  nan,  nan,  nan,  nan],\n       [ 29.,  35., 175., 185., 317., 320., 465., 470.,  nan,  nan],\n       [ 28.,  35., 172., 181., 315., 321., 460., 468.,  nan,  nan],\n       [ 30.,  45., 174., 182., 319., 463., 468.,  nan,  nan,  nan],\n       [ 29.,  36., 170., 180., 316., 320., 461., 468.,  nan,  nan],\n       [ 29.,  34., 170., 178., 315., 321., 461., 470.,  nan,  nan],\n       [ 29.,  34.,  42., 172., 179., 318., 324., 462., 467., 481.],\n       [ 29.,  35., 170., 179., 191., 318., 326., 461., 470.,  nan],\n       [ 29.,  34.,  53., 171., 179., 192., 320., 327., 462., 470.]])"
     },
     "execution_count": 11,
     "metadata": {},
     "output_type": "execute_result"
    }
   ],
   "source": [
    "import layers\n",
    "from utils import *\n",
    "from tqdm import tqdm\n",
    "import os\n",
    "\n",
    "def main():\n",
    "    # ---name for directory with results---\n",
    "    random_dir_name = make_random_name(10)\n",
    "    # ---creating dataframe for input spikes, membrane potential and output spikes---\n",
    "    df = create_df(30)\n",
    "\n",
    "    os.makedirs(random_dir_name)\n",
    "\n",
    "    hidden_layer = layers.IntraConnectLayer(30, 10, 0.5, 0.1, f'../Hebb/{random_dir_name}')\n",
    "    hidden_layer.from_edges()\n",
    "\n",
    "    input_spikes = spike_generator(n=30, steps=10, version='1')\n",
    "\n",
    "    print('Saved to folder: ', f'../Hebb/{random_dir_name}')\n",
    "\n",
    "    for i in tqdm(range(len(input_spikes)), ascii=True, desc='forward'):\n",
    "        out, mem = hidden_layer.intra_forward(input_spikes[i])\n",
    "        df.loc[len(df.index)] = input_spikes[i].tolist() + mem + out.tolist()\n",
    "        print(out)\n",
    "        \n",
    "\n",
    "    df_name = f'../Hebb/{random_dir_name}/data_.csv'\n",
    "    df.to_csv(df_name, index=False)\n",
    "\n",
    "    # ---draw heatmap and save image---\n",
    "    plot_heatmap(df_name, random_dir_name)\n",
    "    # ---draw graph and save image---\n",
    "    hidden_layer.draw_graph()\n",
    "    \n",
    "main()"
   ],
   "metadata": {
    "collapsed": false,
    "ExecuteTime": {
     "end_time": "2024-03-13T14:53:59.767132Z",
     "start_time": "2024-03-13T14:53:59.749306200Z"
    }
   },
   "id": "3e85fa37162debf1"
  },
  {
   "cell_type": "code",
   "execution_count": 3,
   "outputs": [
    {
     "name": "stderr",
     "output_type": "stream",
     "text": [
      "100%|██████████| 100/100 [00:00<00:00, 6660.37it/s]\n"
     ]
    },
    {
     "data": {
      "text/plain": "(100, 5)"
     },
     "execution_count": 3,
     "metadata": {},
     "output_type": "execute_result"
    }
   ],
   "source": [
    "from utils import *\n",
    "spikes = spike_generator(5, 100)\n",
    "spikes.shape"
   ],
   "metadata": {
    "collapsed": false,
    "ExecuteTime": {
     "end_time": "2024-03-18T14:53:27.150514600Z",
     "start_time": "2024-03-18T14:53:27.115818900Z"
    }
   },
   "id": "b51748f940e55e75"
  },
  {
   "cell_type": "code",
   "execution_count": 5,
   "outputs": [
    {
     "data": {
      "text/plain": "array([[0., 0., 0., 0., 0.],\n       [0., 0., 0., 0., 0.],\n       [0., 0., 0., 0., 0.],\n       [0., 0., 0., 0., 0.],\n       [0., 0., 0., 0., 0.],\n       [0., 0., 0., 0., 0.],\n       [0., 0., 0., 0., 0.],\n       [0., 0., 0., 0., 0.],\n       [0., 0., 0., 0., 0.],\n       [0., 0., 0., 0., 0.],\n       [0., 0., 0., 0., 0.],\n       [0., 0., 0., 0., 0.],\n       [0., 0., 0., 0., 0.],\n       [0., 0., 0., 0., 0.],\n       [0., 0., 0., 0., 0.],\n       [0., 0., 0., 0., 0.],\n       [0., 0., 0., 0., 0.],\n       [0., 0., 0., 0., 0.],\n       [0., 0., 0., 0., 0.],\n       [0., 0., 0., 0., 0.],\n       [0., 0., 0., 0., 0.],\n       [0., 0., 0., 0., 0.],\n       [0., 0., 0., 0., 0.],\n       [0., 0., 0., 0., 0.],\n       [0., 0., 0., 0., 0.],\n       [0., 0., 0., 0., 0.],\n       [0., 0., 0., 0., 0.],\n       [0., 0., 0., 0., 0.],\n       [0., 0., 0., 0., 0.],\n       [0., 0., 0., 0., 0.],\n       [0., 0., 0., 0., 0.],\n       [0., 0., 0., 0., 0.],\n       [0., 0., 0., 0., 0.],\n       [0., 0., 0., 0., 0.],\n       [0., 0., 0., 0., 0.],\n       [0., 0., 0., 0., 0.],\n       [0., 0., 0., 0., 0.],\n       [0., 0., 0., 0., 0.],\n       [0., 0., 0., 0., 0.],\n       [0., 0., 0., 0., 0.],\n       [0., 0., 0., 0., 0.],\n       [0., 0., 0., 0., 0.],\n       [0., 0., 0., 0., 0.],\n       [0., 0., 0., 0., 0.],\n       [0., 0., 0., 0., 0.],\n       [0., 0., 0., 0., 0.],\n       [0., 0., 0., 0., 0.],\n       [0., 0., 0., 0., 0.],\n       [0., 0., 0., 0., 0.],\n       [0., 0., 0., 0., 0.],\n       [0., 0., 0., 0., 0.],\n       [0., 0., 0., 0., 0.],\n       [0., 0., 0., 0., 0.],\n       [0., 0., 0., 0., 0.],\n       [0., 0., 0., 0., 0.],\n       [0., 0., 0., 0., 0.],\n       [0., 0., 0., 0., 0.],\n       [0., 0., 0., 0., 0.],\n       [0., 0., 0., 0., 0.],\n       [0., 0., 0., 0., 0.],\n       [0., 0., 0., 0., 0.],\n       [0., 0., 0., 0., 0.],\n       [0., 0., 0., 0., 0.],\n       [0., 0., 0., 0., 0.],\n       [0., 0., 0., 0., 0.],\n       [0., 0., 0., 0., 0.],\n       [0., 0., 0., 0., 0.],\n       [0., 0., 0., 0., 0.],\n       [0., 0., 0., 0., 0.],\n       [0., 0., 0., 0., 0.],\n       [0., 0., 0., 0., 0.],\n       [0., 0., 0., 0., 0.],\n       [0., 0., 0., 0., 0.],\n       [0., 0., 0., 0., 0.],\n       [0., 0., 0., 0., 0.],\n       [0., 0., 0., 0., 0.],\n       [0., 0., 0., 0., 0.],\n       [0., 0., 0., 0., 0.],\n       [0., 0., 0., 0., 0.],\n       [0., 0., 0., 0., 0.],\n       [0., 0., 0., 0., 0.],\n       [0., 0., 0., 0., 0.],\n       [0., 0., 0., 0., 0.],\n       [0., 0., 0., 0., 0.],\n       [0., 0., 0., 0., 0.],\n       [0., 0., 0., 0., 0.],\n       [0., 0., 0., 0., 0.],\n       [0., 0., 0., 0., 0.],\n       [0., 0., 0., 0., 0.],\n       [0., 0., 0., 0., 0.],\n       [0., 0., 0., 0., 0.],\n       [0., 0., 0., 0., 0.],\n       [0., 0., 0., 0., 0.],\n       [0., 0., 0., 0., 0.],\n       [0., 0., 0., 0., 0.],\n       [0., 0., 0., 0., 0.],\n       [0., 0., 0., 0., 0.],\n       [0., 0., 0., 0., 0.],\n       [0., 0., 0., 0., 0.],\n       [0., 0., 0., 0., 0.]])"
     },
     "execution_count": 5,
     "metadata": {},
     "output_type": "execute_result"
    }
   ],
   "source": [
    "output_spike = np.zeros([spikes.shape[0], spikes.shape[1]])\n",
    "output_spike"
   ],
   "metadata": {
    "collapsed": false,
    "ExecuteTime": {
     "end_time": "2024-03-18T14:54:13.744443900Z",
     "start_time": "2024-03-18T14:54:13.711982400Z"
    }
   },
   "id": "71ac67463e5ca993"
  },
  {
   "cell_type": "code",
   "execution_count": 15,
   "outputs": [
    {
     "data": {
      "text/plain": "array([[   1,   23,    4,    5,    1],\n       [1231,   23,   12,   31,   23],\n       [ 123,   12,    3, 1241,   24],\n       [  13,    4,   23,   41,    4]])"
     },
     "execution_count": 15,
     "metadata": {},
     "output_type": "execute_result"
    }
   ],
   "source": [
    "list = [1,23, 4 ,5, 1, 1231, 23 ,12,31,23,123,12,3,1241,24 ,13,4,23,41,4]\n",
    "np.reshape(list, (4, 5))"
   ],
   "metadata": {
    "collapsed": false,
    "ExecuteTime": {
     "end_time": "2024-03-18T18:31:36.889653Z",
     "start_time": "2024-03-18T18:31:36.832073400Z"
    }
   },
   "id": "6c33385596f8b220"
  },
  {
   "cell_type": "code",
   "execution_count": 16,
   "outputs": [
    {
     "name": "stdout",
     "output_type": "stream",
     "text": [
      "[[ 1  2  5  6  9 10]\n",
      " [ 3  4  7  8 11 12]]\n"
     ]
    }
   ],
   "source": [
    "arr1 = np.array([[1, 2], [3, 4]])\n",
    "arr2 = np.array([[5, 6], [7, 8]])\n",
    "arr3 = np.array([[9, 10], [11, 12]])\n",
    "\n",
    "combined_array = np.concatenate((arr1, arr2, arr3), axis=1)\n",
    "print(combined_array)"
   ],
   "metadata": {
    "collapsed": false,
    "ExecuteTime": {
     "end_time": "2024-03-18T18:44:44.153401Z",
     "start_time": "2024-03-18T18:44:44.036994500Z"
    }
   },
   "id": "9c9c3e38c3d8a305"
  },
  {
   "cell_type": "code",
   "execution_count": 17,
   "outputs": [
    {
     "data": {
      "text/plain": "array([[1, 2],\n       [3, 4]])"
     },
     "execution_count": 17,
     "metadata": {},
     "output_type": "execute_result"
    }
   ],
   "source": [
    "arr1 "
   ],
   "metadata": {
    "collapsed": false,
    "ExecuteTime": {
     "end_time": "2024-03-18T18:44:53.528804600Z",
     "start_time": "2024-03-18T18:44:53.472992500Z"
    }
   },
   "id": "d81aa1843c7057a6"
  },
  {
   "cell_type": "code",
   "execution_count": null,
   "outputs": [],
   "source": [],
   "metadata": {
    "collapsed": false
   },
   "id": "db468ad8d0503223"
  }
 ],
 "metadata": {
  "kernelspec": {
   "display_name": "Python 3",
   "language": "python",
   "name": "python3"
  },
  "language_info": {
   "codemirror_mode": {
    "name": "ipython",
    "version": 2
   },
   "file_extension": ".py",
   "mimetype": "text/x-python",
   "name": "python",
   "nbconvert_exporter": "python",
   "pygments_lexer": "ipython2",
   "version": "2.7.6"
  }
 },
 "nbformat": 4,
 "nbformat_minor": 5
}
