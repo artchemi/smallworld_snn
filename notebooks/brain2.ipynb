{
 "cells": [
  {
   "cell_type": "code",
   "execution_count": 1,
   "id": "initial_id",
   "metadata": {
    "collapsed": true,
    "ExecuteTime": {
     "end_time": "2024-06-20T14:14:38.549031700Z",
     "start_time": "2024-06-20T14:14:35.076077600Z"
    }
   },
   "outputs": [],
   "source": [
    "import brian2 as b2\n",
    "from brian2 import *\n",
    "from keras.datasets import mnist\n",
    "from tqdm import tqdm\n",
    "from sklearn import metrics\n",
    "import numpy as np\n",
    "import pandas as pd\n",
    "import itertools\n",
    "from sklearn.ensemble import RandomForestClassifier\n",
    "from sklearn.metrics import accuracy_score, confusion_matrix\n",
    "from spikingjelly import visualizing\n",
    "import utils\n",
    "import seaborn as sns\n",
    "from sklearn.model_selection import train_test_split"
   ]
  },
  {
   "cell_type": "code",
   "execution_count": 2,
   "outputs": [
    {
     "data": {
      "text/plain": "((5000, 28, 28), (1000, 28, 28))"
     },
     "execution_count": 2,
     "metadata": {},
     "output_type": "execute_result"
    }
   ],
   "source": [
    "(X_train, y_train), (X_test, y_test) = mnist.load_data()\n",
    "\n",
    "# simplified classification (0 1 and 8)\n",
    "#X_train = X_train[(y_train == 1) | (y_train == 0) | (y_train == 8)]\n",
    "#y_train = y_train[(y_train == 1) | (y_train == 0) | (y_train == 8)]\n",
    "#X_test = X_test[(y_test == 1) | (y_test == 0) | (y_test == 8)]\n",
    "#y_test = y_test[(y_test == 1) | (y_test == 0) | (y_test== 8)]\n",
    "\n",
    "# pixel intensity to Hz (255 becoms ~63Hz)\n",
    "X_train = X_train / 4 \n",
    "X_test = X_test / 4\n",
    "\n",
    "# Объединяем обучающие и тестовые данные для стратификации\n",
    "\n",
    "X = np.concatenate((X_train, X_test), axis=0)\n",
    "y = np.concatenate((y_train, y_test), axis=0)\n",
    "\n",
    "# Стратифицированное разбиение для обучающего набора\n",
    "X_train, X_temp, y_train, y_temp = train_test_split(\n",
    "    X, y, test_size=(len(y) - 5000), stratify=y)\n",
    "\n",
    "# Стратифицированное разбиение для тестового набора\n",
    "X_test, _, y_test, _ = train_test_split(\n",
    "    X_temp, y_temp, test_size=(len(y_temp) - 1000), stratify=y_temp)\n",
    "\n",
    "X_eval, _, y_eval, _ = train_test_split(\n",
    "    X_temp, y_temp, test_size=(len(y_temp) - 100), stratify=y_temp)\n",
    "\n",
    "X_train.shape, X_test.shape"
   ],
   "metadata": {
    "collapsed": false,
    "ExecuteTime": {
     "end_time": "2024-06-20T14:14:39.386627200Z",
     "start_time": "2024-06-20T14:14:38.549031700Z"
    }
   },
   "id": "c425d859f5013ca2"
  },
  {
   "cell_type": "code",
   "execution_count": 3,
   "outputs": [],
   "source": [
    "n_input = 28*28 # input layer\n",
    "n_e = 100 # e - excitatory\n",
    "n_i = n_e # i - inhibitory\n",
    "\n",
    "v_rest_e = -60.*mV # v - membrane potential\n",
    "v_reset_e = -65.*mV\n",
    "v_thresh_e = -52.*mV\n",
    "\n",
    "v_rest_i = -60.*mV\n",
    "v_reset_i = -45.*mV\n",
    "v_thresh_i = -40.*mV\n",
    "\n",
    "taupre = 20*ms\n",
    "taupost = taupre\n",
    "gmax = .3 #.01\n",
    "dApre = .01\n",
    "dApost = -dApre * taupre / taupost * 1.05\n",
    "dApost *= gmax \n",
    "dApre *= gmax \n",
    "\n",
    "# Apre and Apost - presynaptic and postsynaptic traces, lr - learning rate\n",
    "stdp='''w : 1\n",
    "    lr : 1 (shared)\n",
    "    dApre/dt = -Apre / taupre : 1 (event-driven)\n",
    "    dApost/dt = -Apost / taupost : 1 (event-driven)'''\n",
    "pre='''ge += w\n",
    "    Apre += dApre\n",
    "    w = clip(w + lr*Apost, 0, gmax)'''\n",
    "post='''Apost += dApost\n",
    "    w = clip(w + lr*Apre, 0, gmax)'''\n",
    "\n",
    "class Model():\n",
    "    \n",
    "    def __init__(self, debug=False):\n",
    "        app = {}\n",
    "                \n",
    "        # input images as rate encoded Poisson generators\n",
    "        app['PG'] = PoissonGroup(n_input, rates=np.zeros(n_input)*Hz, name='PG')\n",
    "        \n",
    "        # excitatory group\n",
    "        neuron_e = '''\n",
    "            dv/dt = (ge*(0*mV-v) + gi*(-100*mV-v) + (v_rest_e-v)) / (100*ms) : volt\n",
    "            dge/dt = -ge / (5*ms) : 1\n",
    "            dgi/dt = -gi / (10*ms) : 1\n",
    "            '''\n",
    "        app['EG'] = NeuronGroup(n_e, neuron_e, threshold='v>v_thresh_e', refractory=5*ms, reset='v=v_reset_e', method='euler', name='EG')\n",
    "        app['EG'].v = v_rest_e - 20.*mV\n",
    "        \n",
    "        if (debug):\n",
    "            app['ESP'] = SpikeMonitor(app['EG'], name='ESP')\n",
    "            app['ESM'] = StateMonitor(app['EG'], ['v'], record=True, name='ESM')\n",
    "            app['ERM'] = PopulationRateMonitor(app['EG'], name='ERM')\n",
    "        \n",
    "        # ibhibitory group\n",
    "        neuron_i = '''\n",
    "            dv/dt = (ge*(0*mV-v) + (v_rest_i-v)) / (10*ms) : volt\n",
    "            dge/dt = -ge / (5*ms) : 1\n",
    "            '''\n",
    "        app['IG'] = NeuronGroup(n_i, neuron_i, threshold='v>v_thresh_i', refractory=2*ms, reset='v=v_reset_i', method='euler', name='IG')\n",
    "        app['IG'].v = v_rest_i - 20.*mV\n",
    "\n",
    "        if (debug):\n",
    "            app['ISP'] = SpikeMonitor(app['IG'], name='ISP')\n",
    "            app['ISM'] = StateMonitor(app['IG'], ['v'], record=True, name='ISM')\n",
    "            app['IRM'] = PopulationRateMonitor(app['IG'], name='IRM')\n",
    "        \n",
    "        # poisson generators one-to-all excitatory neurons with plastic connections \n",
    "        app['S1'] = Synapses(app['PG'], app['EG'], stdp, on_pre=pre, on_post=post, method='euler', name='S1')\n",
    "        app['S1'].connect()\n",
    "        app['S1'].w = 'rand()*gmax' # random weights initialisation\n",
    "        app['S1'].lr = 1 # enable stdp        \n",
    "        \n",
    "        if (debug):\n",
    "            # some synapses\n",
    "            app['S1M'] = StateMonitor(app['S1'], ['w', 'Apre', 'Apost'], record=app['S1'][380,:4], name='S1M') \n",
    "        \n",
    "        # excitatory neurons one-to-one inhibitory neurons\n",
    "        app['S2'] = Synapses(app['EG'], app['IG'], 'w : 1', on_pre='ge += w', name='S2')\n",
    "        app['S2'].connect(j='i')\n",
    "        app['S2'].delay = 'rand()*10*ms'\n",
    "        app['S2'].w = 3 # very strong fixed weights to ensure corresponding inhibitory neuron will always fire\n",
    "\n",
    "        # inhibitory neurons one-to-all-except-one excitatory neurons\n",
    "        app['S3'] = Synapses(app['IG'], app['EG'], 'w : 1', on_pre='gi += w', name='S3')\n",
    "        app['S3'].connect(condition='i!=j')\n",
    "        app['S3'].delay = 'rand()*5*ms'\n",
    "        app['S3'].w = .03 # weights are selected in such a way as to maintain a balance between excitation and ibhibition\n",
    "        \n",
    "        self.net = Network(app.values())\n",
    "        self.net.run(0*second)\n",
    "        \n",
    "    def __getitem__(self, key):\n",
    "        return self.net[key]\n",
    "    \n",
    "    def train(self, X, epoch=1):        \n",
    "        self.net['S1'].lr = 1 # stdp on\n",
    "        \n",
    "        \n",
    "        for ep in range(1):\n",
    "            for idx in tqdm(range(len(X))):\n",
    "                # active mode\n",
    "                # mon = StateMonitor(self.net['S1'], ['w', 'Apre', 'Apost'], record=self.net['S1'][380, :5], name='S1MM')\n",
    "                \n",
    "                # self.net.add(mon)\n",
    "                self.net['PG'].rates = X[idx].ravel()*Hz\n",
    "                self.net.run(0.35*second)\n",
    "\n",
    "                # passive mode\n",
    "                self.net['PG'].rates = np.zeros(n_input)*Hz\n",
    "                self.net.run(0.15*second)\n",
    "                \n",
    "                # plot_w(mon, f'weight/weight{idx}.png')\n",
    "                \n",
    "                # self.net.remove(self.net['S1MM'])\n",
    "        \n",
    "    def evaluate(self, X):       \n",
    "        self.net['S1'].lr = 0  # stdp off\n",
    "        \n",
    "        features = []\n",
    "        for idx in tqdm(range(len(X))):\n",
    "            # rate monitor to count spikes\n",
    "            mon = SpikeMonitor(self.net['EG'], name='S1M')\n",
    "            self.net.add(mon)\n",
    "            \n",
    "            # active mode\n",
    "            self.net['PG'].rates = X[idx].ravel()*Hz\n",
    "            self.net.run(0.35*second)\n",
    "            \n",
    "            # spikes per neuron foreach image\n",
    "            features.append(np.array(mon.count, dtype=int8))\n",
    "            \n",
    "            # passive mode\n",
    "            self.net['PG'].rates = np.zeros(n_input)*Hz\n",
    "            self.net.run(0.15*second)\n",
    "            \n",
    "            self.net.remove(self.net['S1M'])\n",
    "            \n",
    "        return features"
   ],
   "metadata": {
    "collapsed": false,
    "ExecuteTime": {
     "end_time": "2024-06-20T14:14:39.417861400Z",
     "start_time": "2024-06-20T14:14:39.386627200Z"
    }
   },
   "id": "57e84f3ed9ff7f75"
  },
  {
   "cell_type": "code",
   "execution_count": 4,
   "outputs": [],
   "source": [
    "def plot_w(S1M, path):\n",
    "    plt.rcParams[\"figure.figsize\"] = (20,10)\n",
    "    plot(S1M.t/ms, S1M.w.T)\n",
    "    ylabel('w')\n",
    "    tight_layout()\n",
    "    savefig(path)\n",
    "    close();\n",
    "    \n",
    "def plot_v(ESM, ISM, neuron=13):\n",
    "    plt.rcParams[\"figure.figsize\"] = (20,6)\n",
    "    cnt = -50000 # tail\n",
    "    plot(ESM.t[cnt:]/ms, ESM.v[neuron][cnt:]/mV, label='exc', color='r')\n",
    "    plot(ISM.t[cnt:]/ms, ISM.v[neuron][cnt:]/mV, label='inh', color='b')\n",
    "    plt.axhline(y=v_thresh_e/mV, color='pink', label='v_thresh_e')\n",
    "    plt.axhline(y=v_thresh_i/mV, color='silver', label='v_thresh_i')\n",
    "    legend()\n",
    "    ylabel('v')\n",
    "    show();\n",
    "    \n",
    "def plot_rates(ERM, IRM):\n",
    "    plt.rcParams[\"figure.figsize\"] = (20,6)\n",
    "    plot(ERM.t/ms, ERM.smooth_rate(window='flat', width=0.1*ms)*Hz, color='r')\n",
    "    plot(IRM.t/ms, IRM.smooth_rate(window='flat', width=0.1*ms)*Hz, color='b')\n",
    "    ylabel('Rate')\n",
    "    show();\n",
    "    \n",
    "def plot_spikes(ESP, ISP):\n",
    "    plt.rcParams[\"figure.figsize\"] = (20,6)\n",
    "    plot(ESP.t/ms, ESP.i, '.r')\n",
    "    plot(ISP.t/ms, ISP.i, '.b')\n",
    "    ylabel('Neuron index')\n",
    "    show();\n",
    "\n",
    "def test0(train_items=30):\n",
    "    '''\n",
    "    STDP visualisation\n",
    "    '''\n",
    "    seed(0)\n",
    "    \n",
    "    model = Model(debug=True)\n",
    "    model.train(X_train[:train_items], epoch=1)\n",
    "    \n",
    "    plot_w(model['S1M'])\n",
    "    plot_v(model['ESM'], model['ISM'])\n",
    "    plot_rates(model['ERM'], model['IRM'])\n",
    "    plot_spikes(model['ESP'], model['ISP'])\n",
    "    \n",
    "# test0()"
   ],
   "metadata": {
    "collapsed": false,
    "ExecuteTime": {
     "end_time": "2024-06-20T14:14:39.433461Z",
     "start_time": "2024-06-20T14:14:39.417861400Z"
    }
   },
   "id": "507bbdd89938d3ca"
  },
  {
   "cell_type": "code",
   "execution_count": 5,
   "outputs": [
    {
     "name": "stderr",
     "output_type": "stream",
     "text": [
      "100%|██████████| 5000/5000 [18:53<00:00,  4.41it/s]\n",
      "100%|██████████| 1000/1000 [04:11<00:00,  3.97it/s]\n"
     ]
    },
    {
     "name": "stdout",
     "output_type": "stream",
     "text": [
      "0.684\n"
     ]
    },
    {
     "name": "stderr",
     "output_type": "stream",
     "text": [
      "100%|██████████| 100/100 [00:25<00:00,  3.98it/s]\n"
     ]
    },
    {
     "name": "stdout",
     "output_type": "stream",
     "text": [
      "0.6\n"
     ]
    },
    {
     "data": {
      "text/plain": "<Figure size 1000x800 with 2 Axes>",
      "image/png": "[encoded data removed]"
     },
     "metadata": {},
     "output_type": "display_data"
    }
   ],
   "source": [
    "def test1(train_items=5000, assign_items=1000, eval_items=100):\n",
    "    '''\n",
    "    Feed train set to SNN with STDP\n",
    "    Freeze STDP\n",
    "    Feed train set to SNN again and collect generated features\n",
    "    Train RandomForest on the top of these features and labels provided\n",
    "    Feed test set to SNN and collect new features\n",
    "    Predict labels with RandomForest and calculate accuacy score\n",
    "    '''\n",
    "    seed(0)\n",
    "    \n",
    "    model = Model()\n",
    "    model.train(X_train[:train_items], y_train[:train_items])\n",
    "    model.net.store('train', 'train.b2')\n",
    "    #model.net.restore('train', './train.b2')\n",
    "    \n",
    "    f_train = model.evaluate(X_train[:assign_items])\n",
    "    clf = RandomForestClassifier(max_depth=4, random_state=0)\n",
    "    clf.fit(f_train, y_train[:assign_items])\n",
    "    print(clf.score(f_train, y_train[:assign_items]))\n",
    "\n",
    "    f_test = model.evaluate(X_test[:eval_items])\n",
    "    y_pred = clf.predict(f_test)\n",
    "    print(accuracy_score(y_pred, y_test[:eval_items]))\n",
    "\n",
    "    cm = confusion_matrix(y_pred, y_test[:eval_items])\n",
    "    # print(cm)\n",
    "    \n",
    "    plt.figure(figsize=(10, 8))\n",
    "    sns.heatmap(cm, annot=True, fmt='d', cmap='Blues', square=True,\n",
    "                xticklabels=list(unique(y_test[:eval_items])),\n",
    "                yticklabels=list(unique(y_test[:eval_items])))\n",
    "    \n",
    "    plt.ylabel('Истинные метки')\n",
    "    plt.xlabel('Предсказанные метки')\n",
    "    plt.title('Матрица ошибок')\n",
    "\n",
    "    plt.show()\n",
    "    \n",
    "test1()"
   ],
   "metadata": {
    "collapsed": false,
    "ExecuteTime": {
     "end_time": "2024-06-20T14:38:10.641291600Z",
     "start_time": "2024-06-20T14:14:39.433461Z"
    }
   },
   "id": "25b8296a16f0592"
  },
  {
   "cell_type": "code",
   "execution_count": null,
   "outputs": [],
   "source": [],
   "metadata": {
    "collapsed": false
   },
   "id": "4a5cf99bd2b8260c"
  }
 ],
 "metadata": {
  "kernelspec": {
   "display_name": "Python 3",
   "language": "python",
   "name": "python3"
  },
  "language_info": {
   "codemirror_mode": {
    "name": "ipython",
    "version": 2
   },
   "file_extension": ".py",
   "mimetype": "text/x-python",
   "name": "python",
   "nbconvert_exporter": "python",
   "pygments_lexer": "ipython2",
   "version": "2.7.6"
  }
 },
 "nbformat": 4,
 "nbformat_minor": 5
}
