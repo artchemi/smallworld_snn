{
 "cells": [
  {
   "cell_type": "code",
   "execution_count": 1,
   "id": "initial_id",
   "metadata": {
    "collapsed": true,
    "ExecuteTime": {
     "end_time": "2024-03-19T13:34:06.030066600Z",
     "start_time": "2024-03-19T13:34:05.818066500Z"
    }
   },
   "outputs": [],
   "source": [
    "import pandas as pd\n",
    "import numpy as np"
   ]
  },
  {
   "cell_type": "code",
   "execution_count": 11,
   "outputs": [],
   "source": [
    "df = pd.read_csv('../3ytc61d048/data_3ytc61d048.csv')\n",
    "last_50_columns = df.iloc[:, -50:]\n",
    "last_50_columns_matrix = np.array(last_50_columns)"
   ],
   "metadata": {
    "collapsed": false,
    "ExecuteTime": {
     "end_time": "2024-03-19T13:42:24.541992900Z",
     "start_time": "2024-03-19T13:42:24.507148400Z"
    }
   },
   "id": "b892b6dcff1cb0c7"
  },
  {
   "cell_type": "code",
   "execution_count": 7,
   "outputs": [
    {
     "ename": "AttributeError",
     "evalue": "'numpy.ndarray' object has no attribute 'empty'",
     "output_type": "error",
     "traceback": [
      "\u001B[1;31m---------------------------------------------------------------------------\u001B[0m",
      "\u001B[1;31mAttributeError\u001B[0m                            Traceback (most recent call last)",
      "Cell \u001B[1;32mIn[7], line 5\u001B[0m\n\u001B[0;32m      2\u001B[0m     index \u001B[38;5;241m=\u001B[39m np\u001B[38;5;241m.\u001B[39margwhere(matrix \u001B[38;5;241m==\u001B[39m spike_value)\n\u001B[0;32m      3\u001B[0m     \u001B[38;5;28;01mreturn\u001B[39;00m np\u001B[38;5;241m.\u001B[39marray(index) \u001B[38;5;28;01mif\u001B[39;00m \u001B[38;5;129;01mnot\u001B[39;00m index\u001B[38;5;241m.\u001B[39mempty \u001B[38;5;28;01melse\u001B[39;00m np\u001B[38;5;241m.\u001B[39mnan\n\u001B[1;32m----> 5\u001B[0m indexes \u001B[38;5;241m=\u001B[39m \u001B[43mfind_index_of_spikes\u001B[49m\u001B[43m(\u001B[49m\u001B[43mlast_50_columns\u001B[49m\u001B[43m,\u001B[49m\u001B[43m \u001B[49m\u001B[38;5;241;43m10.0\u001B[39;49m\u001B[43m)\u001B[49m\n\u001B[0;32m      6\u001B[0m \u001B[38;5;28mprint\u001B[39m(\u001B[38;5;28mtype\u001B[39m(indexes))\n\u001B[0;32m      7\u001B[0m indexes\u001B[38;5;241m.\u001B[39mdropna(inplace\u001B[38;5;241m=\u001B[39m\u001B[38;5;28;01mTrue\u001B[39;00m)\n",
      "Cell \u001B[1;32mIn[7], line 3\u001B[0m, in \u001B[0;36mfind_index_of_spikes\u001B[1;34m(matrix, spike_value)\u001B[0m\n\u001B[0;32m      1\u001B[0m \u001B[38;5;28;01mdef\u001B[39;00m \u001B[38;5;21mfind_index_of_spikes\u001B[39m(matrix, spike_value):\n\u001B[0;32m      2\u001B[0m     index \u001B[38;5;241m=\u001B[39m np\u001B[38;5;241m.\u001B[39margwhere(matrix \u001B[38;5;241m==\u001B[39m spike_value)\n\u001B[1;32m----> 3\u001B[0m     \u001B[38;5;28;01mreturn\u001B[39;00m np\u001B[38;5;241m.\u001B[39marray(index) \u001B[38;5;28;01mif\u001B[39;00m \u001B[38;5;129;01mnot\u001B[39;00m \u001B[43mindex\u001B[49m\u001B[38;5;241;43m.\u001B[39;49m\u001B[43mempty\u001B[49m \u001B[38;5;28;01melse\u001B[39;00m np\u001B[38;5;241m.\u001B[39mnan\n",
      "\u001B[1;31mAttributeError\u001B[0m: 'numpy.ndarray' object has no attribute 'empty'"
     ]
    }
   ],
   "source": [
    "def find_index_of_spikes_matrix(matrix, spike_value):\n",
    "    index = np.argwhere(matrix == spike_value)\n",
    "    return np.array(index) if not index.empty else np.nan\n",
    "\n",
    "indexes = find_index_of_spikes(last_50_columns, 10.0)\n",
    "print(type(indexes))\n",
    "indexes.dropna(inplace=True)\n",
    "max_len = max(map(len, indexes))\n",
    "filled_lists = [list(filter(None, x)) + [np.nan] * (max_len - len(x)) for x in indexes]\n",
    "#tau_max = find_tau_max(np.array(filled_lists), self.dt)\n",
    "\n",
    "def find_tau_max(matrix, dt):\n",
    "\n",
    "    count = 0\n",
    "    sum_diff = 0\n",
    "    for col in range(matrix.shape[1]):\n",
    "        for i in range(len(matrix[:, col])):\n",
    "            if not np.isnan(matrix[i][col]):\n",
    "                for j in range(i + 1, len(matrix[:, col])):\n",
    "                    if not np.isnan(matrix[j][col]):\n",
    "                        sum_diff += abs(matrix[i][col] - matrix[j][col])\n",
    "                        count += 1\n",
    "    if count != 0:\n",
    "        return (sum_diff / count) * 2 * dt\n",
    "    else:\n",
    "        return 'No spikes'\n",
    "\n",
    "#result = find_tau_max(res, 0.1)\n",
    "#result"
   ],
   "metadata": {
    "collapsed": false,
    "ExecuteTime": {
     "end_time": "2024-03-19T13:38:42.434980600Z",
     "start_time": "2024-03-19T13:38:42.386987500Z"
    }
   },
   "id": "c68db2e75c870363"
  },
  {
   "cell_type": "code",
   "execution_count": 43,
   "outputs": [
    {
     "name": "stdout",
     "output_type": "stream",
     "text": [
      "true\n"
     ]
    }
   ],
   "source": [
    "\n",
    "df = pd.read_csv('../gl1654pv3d/syn_gl1654pv3d.csv')\n",
    "arr = np.array(df)\n",
    "\n",
    "def find_indices_above_diagonal(matrix, value):\n",
    "    indixes = np.argwhere(np.triu(matrix, k=1) == value)\n",
    "    return indixes\n",
    "\n",
    "indexes = find_indices_above_diagonal(arr, 10)\n",
    "if 2 in indexes[:, 0]:\n",
    "    print('true')\n",
    "    "
   ],
   "metadata": {
    "collapsed": false,
    "ExecuteTime": {
     "end_time": "2024-03-19T14:53:19.212181600Z",
     "start_time": "2024-03-19T14:53:19.164918600Z"
    }
   },
   "id": "d81aa1843c7057a6"
  },
  {
   "cell_type": "code",
   "execution_count": 45,
   "outputs": [
    {
     "data": {
      "text/plain": "array([[ 0,  1],\n       [ 0,  2],\n       [ 0,  3],\n       ...,\n       [47, 48],\n       [47, 49],\n       [48, 49]], dtype=int64)"
     },
     "execution_count": 45,
     "metadata": {},
     "output_type": "execute_result"
    }
   ],
   "source": [
    "indexes"
   ],
   "metadata": {
    "collapsed": false,
    "ExecuteTime": {
     "end_time": "2024-03-19T14:53:29.052008100Z",
     "start_time": "2024-03-19T14:53:29.038009600Z"
    }
   },
   "id": "b8705c68cb02d15a"
  },
  {
   "cell_type": "code",
   "execution_count": 46,
   "outputs": [],
   "source": [
    "list= [['ad', 'asd'], [12]]"
   ],
   "metadata": {
    "collapsed": false,
    "ExecuteTime": {
     "end_time": "2024-03-19T14:55:26.182621200Z",
     "start_time": "2024-03-19T14:55:26.163622900Z"
    }
   },
   "id": "3fa9c9ca76bfb52c"
  },
  {
   "cell_type": "code",
   "execution_count": 49,
   "outputs": [
    {
     "data": {
      "text/plain": "['ad', 'asd']"
     },
     "execution_count": 49,
     "metadata": {},
     "output_type": "execute_result"
    }
   ],
   "source": [
    "list[0]"
   ],
   "metadata": {
    "collapsed": false,
    "ExecuteTime": {
     "end_time": "2024-03-19T14:55:41.170029200Z",
     "start_time": "2024-03-19T14:55:41.162050500Z"
    }
   },
   "id": "9786b14fb114d2bc"
  },
  {
   "cell_type": "code",
   "execution_count": 54,
   "outputs": [],
   "source": [
    "list = [[], []]\n",
    "\n",
    "list[1].append(10)"
   ],
   "metadata": {
    "collapsed": false,
    "ExecuteTime": {
     "end_time": "2024-03-19T14:57:29.457675400Z",
     "start_time": "2024-03-19T14:57:29.427192700Z"
    }
   },
   "id": "6a74aaebab763149"
  },
  {
   "cell_type": "code",
   "execution_count": 55,
   "outputs": [
    {
     "data": {
      "text/plain": "[[], [10]]"
     },
     "execution_count": 55,
     "metadata": {},
     "output_type": "execute_result"
    }
   ],
   "source": [
    "list"
   ],
   "metadata": {
    "collapsed": false,
    "ExecuteTime": {
     "end_time": "2024-03-19T14:57:31.118736900Z",
     "start_time": "2024-03-19T14:57:31.092063800Z"
    }
   },
   "id": "5aa54c37c559e3c4"
  },
  {
   "cell_type": "code",
   "execution_count": 56,
   "outputs": [
    {
     "data": {
      "text/plain": "[[], [], [], [], [], [], [], [], [], [10]]"
     },
     "execution_count": 56,
     "metadata": {},
     "output_type": "execute_result"
    }
   ],
   "source": [
    "result = [[] for _ in range(10)]\n",
    "\n",
    "result[9].append(10)\n",
    "result"
   ],
   "metadata": {
    "collapsed": false,
    "ExecuteTime": {
     "end_time": "2024-03-19T15:00:31.698490100Z",
     "start_time": "2024-03-19T15:00:31.679527500Z"
    }
   },
   "id": "79f13de3380edc7b"
  },
  {
   "cell_type": "code",
   "execution_count": 57,
   "outputs": [
    {
     "data": {
      "text/plain": "array([[0., 0.],\n       [0., 3.]])"
     },
     "execution_count": 57,
     "metadata": {},
     "output_type": "execute_result"
    }
   ],
   "source": [
    "output_spike = np.zeros([2, 2])\n",
    "output_spike[1][1] = 3\n",
    "output_spike"
   ],
   "metadata": {
    "collapsed": false,
    "ExecuteTime": {
     "end_time": "2024-03-19T15:03:47.064111800Z",
     "start_time": "2024-03-19T15:03:47.027988400Z"
    }
   },
   "id": "921b14adc84b51d7"
  },
  {
   "cell_type": "code",
   "execution_count": null,
   "outputs": [],
   "source": [],
   "metadata": {
    "collapsed": false
   },
   "id": "df65ef29b1cb2d93"
  }
 ],
 "metadata": {
  "kernelspec": {
   "display_name": "Python 3",
   "language": "python",
   "name": "python3"
  },
  "language_info": {
   "codemirror_mode": {
    "name": "ipython",
    "version": 2
   },
   "file_extension": ".py",
   "mimetype": "text/x-python",
   "name": "python",
   "nbconvert_exporter": "python",
   "pygments_lexer": "ipython2",
   "version": "2.7.6"
  }
 },
 "nbformat": 4,
 "nbformat_minor": 5
}
