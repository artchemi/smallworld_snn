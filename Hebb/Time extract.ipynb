{
 "cells": [
  {
   "cell_type": "code",
   "execution_count": 2,
   "id": "initial_id",
   "metadata": {
    "collapsed": true,
    "ExecuteTime": {
     "end_time": "2024-03-20T11:03:37.188393500Z",
     "start_time": "2024-03-20T11:03:36.593367Z"
    }
   },
   "outputs": [],
   "source": [
    "import pandas as pd\n",
    "import numpy as np"
   ]
  },
  {
   "cell_type": "code",
   "execution_count": 76,
   "outputs": [],
   "source": [
    "df = pd.read_csv('../3ytc61d048/data_3ytc61d048.csv')\n",
    "last_50_columns = df.iloc[:, -50:]\n",
    "last_50_columns_matrix = np.array(last_50_columns)"
   ],
   "metadata": {
    "collapsed": false,
    "ExecuteTime": {
     "end_time": "2024-03-19T16:25:27.547668100Z",
     "start_time": "2024-03-19T16:25:27.517651500Z"
    }
   },
   "id": "b892b6dcff1cb0c7"
  },
  {
   "cell_type": "code",
   "execution_count": 82,
   "outputs": [
    {
     "ename": "TypeError",
     "evalue": "'list' object is not callable",
     "output_type": "error",
     "traceback": [
      "\u001B[1;31m---------------------------------------------------------------------------\u001B[0m",
      "\u001B[1;31mTypeError\u001B[0m                                 Traceback (most recent call last)",
      "Cell \u001B[1;32mIn[82], line 12\u001B[0m\n\u001B[0;32m     10\u001B[0m indexes\u001B[38;5;241m.\u001B[39mdropna(inplace\u001B[38;5;241m=\u001B[39m\u001B[38;5;28;01mTrue\u001B[39;00m)\n\u001B[0;32m     11\u001B[0m max_len \u001B[38;5;241m=\u001B[39m \u001B[38;5;28mmax\u001B[39m(\u001B[38;5;28mmap\u001B[39m(\u001B[38;5;28mlen\u001B[39m, indexes))\n\u001B[1;32m---> 12\u001B[0m filled_lists \u001B[38;5;241m=\u001B[39m [\u001B[38;5;28mlist\u001B[39m(\u001B[38;5;28mfilter\u001B[39m(\u001B[38;5;28;01mNone\u001B[39;00m, x)) \u001B[38;5;241m+\u001B[39m [np\u001B[38;5;241m.\u001B[39mnan] \u001B[38;5;241m*\u001B[39m (max_len \u001B[38;5;241m-\u001B[39m \u001B[38;5;28mlen\u001B[39m(x)) \u001B[38;5;28;01mfor\u001B[39;00m x \u001B[38;5;129;01min\u001B[39;00m indexes]\n\u001B[0;32m     14\u001B[0m \u001B[38;5;28;01mdef\u001B[39;00m \u001B[38;5;21mfind_tau_max\u001B[39m(matrix, dt):\n\u001B[0;32m     16\u001B[0m     count \u001B[38;5;241m=\u001B[39m \u001B[38;5;241m0\u001B[39m\n",
      "Cell \u001B[1;32mIn[82], line 12\u001B[0m, in \u001B[0;36m<listcomp>\u001B[1;34m(.0)\u001B[0m\n\u001B[0;32m     10\u001B[0m indexes\u001B[38;5;241m.\u001B[39mdropna(inplace\u001B[38;5;241m=\u001B[39m\u001B[38;5;28;01mTrue\u001B[39;00m)\n\u001B[0;32m     11\u001B[0m max_len \u001B[38;5;241m=\u001B[39m \u001B[38;5;28mmax\u001B[39m(\u001B[38;5;28mmap\u001B[39m(\u001B[38;5;28mlen\u001B[39m, indexes))\n\u001B[1;32m---> 12\u001B[0m filled_lists \u001B[38;5;241m=\u001B[39m [\u001B[38;5;28;43mlist\u001B[39;49m\u001B[43m(\u001B[49m\u001B[38;5;28;43mfilter\u001B[39;49m\u001B[43m(\u001B[49m\u001B[38;5;28;43;01mNone\u001B[39;49;00m\u001B[43m,\u001B[49m\u001B[43m \u001B[49m\u001B[43mx\u001B[49m\u001B[43m)\u001B[49m\u001B[43m)\u001B[49m \u001B[38;5;241m+\u001B[39m [np\u001B[38;5;241m.\u001B[39mnan] \u001B[38;5;241m*\u001B[39m (max_len \u001B[38;5;241m-\u001B[39m \u001B[38;5;28mlen\u001B[39m(x)) \u001B[38;5;28;01mfor\u001B[39;00m x \u001B[38;5;129;01min\u001B[39;00m indexes]\n\u001B[0;32m     14\u001B[0m \u001B[38;5;28;01mdef\u001B[39;00m \u001B[38;5;21mfind_tau_max\u001B[39m(matrix, dt):\n\u001B[0;32m     16\u001B[0m     count \u001B[38;5;241m=\u001B[39m \u001B[38;5;241m0\u001B[39m\n",
      "\u001B[1;31mTypeError\u001B[0m: 'list' object is not callable"
     ]
    }
   ],
   "source": [
    "def find_index_of_spikes_matrix(matrix, spike_value):\n",
    "    index = np.argwhere(matrix == spike_value)\n",
    "    return np.array(index) if not index.empty else np.nan\n",
    "\n",
    "def find_index_of_spikes(column, spike_value):\n",
    "    index = column[column == spike_value].index\n",
    "    return np.array(index) if not index.empty else np.nan\n",
    "\n",
    "indexes = last_50_columns.apply(find_index_of_spikes, args=(10.0,))\n",
    "indexes.dropna(inplace=True)\n",
    "max_len = max(map(len, indexes))\n",
    "filled_lists = [list(filter(None, x)) + [np.nan] * (max_len - len(x)) for x in indexes]\n",
    "\n",
    "def find_tau_max(matrix, dt):\n",
    "\n",
    "    count = 0\n",
    "    sum_diff = 0\n",
    "    for col in range(matrix.shape[1]):\n",
    "        for i in range(len(matrix[:, col])):\n",
    "            if not np.isnan(matrix[i][col]):\n",
    "                for j in range(i + 1, len(matrix[:, col])):\n",
    "                    if not np.isnan(matrix[j][col]):\n",
    "                        sum_diff += abs(matrix[i][col] - matrix[j][col])\n",
    "                        count += 1\n",
    "    if count != 0:\n",
    "        return (sum_diff / count) * 2 * dt\n",
    "    else:\n",
    "        return 'No spikes'\n",
    "\n",
    "result = find_tau_max(filled_lists, 0.1)\n",
    "result"
   ],
   "metadata": {
    "collapsed": false,
    "ExecuteTime": {
     "end_time": "2024-03-19T16:34:53.091192700Z",
     "start_time": "2024-03-19T16:34:53.006223Z"
    }
   },
   "id": "c68db2e75c870363"
  },
  {
   "cell_type": "code",
   "execution_count": 5,
   "outputs": [
    {
     "data": {
      "text/plain": "array([[ 0,  1],\n       [ 0,  3],\n       [ 0,  4],\n       ...,\n       [47, 48],\n       [47, 49],\n       [48, 49]], dtype=int64)"
     },
     "execution_count": 5,
     "metadata": {},
     "output_type": "execute_result"
    }
   ],
   "source": [
    "df = pd.read_csv('../56e130m538/syn_56e130m538.csv')\n",
    "arr = np.array(df)\n",
    "\n",
    "def find_indices_above_diagonal(matrix, value):\n",
    "    indixes = np.argwhere(np.triu(matrix, k=1) == value)\n",
    "    return indixes\n",
    "\n",
    "indexes = find_indices_above_diagonal(arr, 10)\n",
    "indexes"
   ],
   "metadata": {
    "collapsed": false,
    "ExecuteTime": {
     "end_time": "2024-03-20T11:05:41.999520200Z",
     "start_time": "2024-03-20T11:05:41.969431300Z"
    }
   },
   "id": "d81aa1843c7057a6"
  },
  {
   "cell_type": "code",
   "execution_count": 61,
   "outputs": [
    {
     "name": "stdout",
     "output_type": "stream",
     "text": [
      "0\n",
      "1\n",
      "2\n",
      "3\n"
     ]
    }
   ],
   "source": [
    "unique_values_mapping = {}\n",
    "\n",
    "for row in indexes:\n",
    "    key = tuple(row)\n",
    "    if key[1] not in unique_values_mapping:\n",
    "        unique_values_mapping[key[1]] = [key[0]]\n",
    "    else:\n",
    "        unique_values_mapping[key[1]].append(key[0])\n",
    "\n",
    "for values in unique_values_mapping[4]:\n",
    "    print(values)"
   ],
   "metadata": {
    "collapsed": false,
    "ExecuteTime": {
     "end_time": "2024-03-20T12:15:47.087671Z",
     "start_time": "2024-03-20T12:15:47.023640400Z"
    }
   },
   "id": "21126f8999885ab4"
  },
  {
   "cell_type": "code",
   "execution_count": 51,
   "outputs": [
    {
     "ename": "IndexError",
     "evalue": "list index out of range",
     "output_type": "error",
     "traceback": [
      "\u001B[1;31m---------------------------------------------------------------------------\u001B[0m",
      "\u001B[1;31mIndexError\u001B[0m                                Traceback (most recent call last)",
      "Cell \u001B[1;32mIn[51], line 2\u001B[0m\n\u001B[0;32m      1\u001B[0m \u001B[38;5;28mlist\u001B[39m \u001B[38;5;241m=\u001B[39m [\u001B[38;5;241m1\u001B[39m ,\u001B[38;5;241m2\u001B[39m, \u001B[38;5;241m3\u001B[39m,\u001B[38;5;241m4\u001B[39m,\u001B[38;5;241m42\u001B[39m,\u001B[38;5;241m4\u001B[39m]\n\u001B[1;32m----> 2\u001B[0m \u001B[38;5;28;43mlist\u001B[39;49m\u001B[43m[\u001B[49m\u001B[38;5;241;43m-\u001B[39;49m\u001B[38;5;241;43m10\u001B[39;49m\u001B[43m]\u001B[49m\n",
      "\u001B[1;31mIndexError\u001B[0m: list index out of range"
     ]
    }
   ],
   "source": [
    "list = [1 ,2, 3,4,42,4]\n",
    "list[-10]"
   ],
   "metadata": {
    "collapsed": false,
    "ExecuteTime": {
     "end_time": "2024-03-20T11:58:34.506121300Z",
     "start_time": "2024-03-20T11:58:34.457538100Z"
    }
   },
   "id": "b8705c68cb02d15a"
  },
  {
   "cell_type": "code",
   "execution_count": 60,
   "outputs": [
    {
     "data": {
      "text/plain": "423"
     },
     "execution_count": 60,
     "metadata": {},
     "output_type": "execute_result"
    }
   ],
   "source": [
    "list = [[123, 1231], [12, 123, 423, 42]]\n",
    "list[1][-2]"
   ],
   "metadata": {
    "collapsed": false,
    "ExecuteTime": {
     "end_time": "2024-03-20T12:04:25.117383300Z",
     "start_time": "2024-03-20T12:04:25.101383800Z"
    }
   },
   "id": "196caa21b3dcfb45"
  },
  {
   "cell_type": "code",
   "execution_count": null,
   "outputs": [],
   "source": [],
   "metadata": {
    "collapsed": false
   },
   "id": "a92722b7bf9f2d27"
  }
 ],
 "metadata": {
  "kernelspec": {
   "display_name": "Python 3",
   "language": "python",
   "name": "python3"
  },
  "language_info": {
   "codemirror_mode": {
    "name": "ipython",
    "version": 2
   },
   "file_extension": ".py",
   "mimetype": "text/x-python",
   "name": "python",
   "nbconvert_exporter": "python",
   "pygments_lexer": "ipython2",
   "version": "2.7.6"
  }
 },
 "nbformat": 4,
 "nbformat_minor": 5
}
