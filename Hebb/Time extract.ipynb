{
 "cells": [
  {
   "cell_type": "code",
   "execution_count": 118,
   "id": "initial_id",
   "metadata": {
    "collapsed": true,
    "ExecuteTime": {
     "end_time": "2024-03-10T17:59:45.189595Z",
     "start_time": "2024-03-10T17:59:45.173971600Z"
    }
   },
   "outputs": [],
   "source": [
    "import pandas as pd\n",
    "import numpy as np"
   ]
  },
  {
   "cell_type": "code",
   "execution_count": 136,
   "outputs": [],
   "source": [
    "df = pd.read_csv('../3ytc61d048/data_3ytc61d048.csv')\n",
    "last_50_columns = df.iloc[:, -50:]"
   ],
   "metadata": {
    "collapsed": false,
    "ExecuteTime": {
     "end_time": "2024-03-10T18:42:26.308096Z",
     "start_time": "2024-03-10T18:42:26.268004800Z"
    }
   },
   "id": "b892b6dcff1cb0c7"
  },
  {
   "cell_type": "code",
   "execution_count": 137,
   "outputs": [
    {
     "data": {
      "text/plain": "59.6"
     },
     "execution_count": 137,
     "metadata": {},
     "output_type": "execute_result"
    }
   ],
   "source": [
    "def find_index_of_spikes(column, spike_value):\n",
    "    index = column[column == spike_value].index\n",
    "    return np.array(index) if not index.empty else None\n",
    "\n",
    "index_of_10 = last_50_columns.apply(find_index_of_spikes, args=(10.0,))\n",
    "index_of_10.dropna(inplace = True)\n",
    "max_len = max(map(len, index_of_10))\n",
    "filled_lists = [list(filter(None, x)) + [None] * (max_len - len(x)) for x in index_of_10]\n",
    "res = np.array(filled_lists)\n",
    "\n",
    "def find_tau_max(matrix, dt):\n",
    "    matrix = np.where(matrix == None, np.nan, matrix)\n",
    "    matrix = matrix.astype(float)\n",
    "    max_diff = np.nanmax(matrix, axis=0) - np.nanmin(matrix, axis=0)\n",
    "    return max(max_diff) * 2 * dt\n",
    "\n",
    "result = find_tau_max(res, 0.1)\n",
    "result"
   ],
   "metadata": {
    "collapsed": false,
    "ExecuteTime": {
     "end_time": "2024-03-10T18:42:26.718286400Z",
     "start_time": "2024-03-10T18:42:26.702710Z"
    }
   },
   "id": "c68db2e75c870363"
  },
  {
   "cell_type": "code",
   "execution_count": null,
   "outputs": [],
   "source": [],
   "metadata": {
    "collapsed": false
   },
   "id": "4ea89cf24adc2e5"
  }
 ],
 "metadata": {
  "kernelspec": {
   "display_name": "Python 3",
   "language": "python",
   "name": "python3"
  },
  "language_info": {
   "codemirror_mode": {
    "name": "ipython",
    "version": 2
   },
   "file_extension": ".py",
   "mimetype": "text/x-python",
   "name": "python",
   "nbconvert_exporter": "python",
   "pygments_lexer": "ipython2",
   "version": "2.7.6"
  }
 },
 "nbformat": 4,
 "nbformat_minor": 5
}
