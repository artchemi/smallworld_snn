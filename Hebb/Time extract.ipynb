{
 "cells": [
  {
   "cell_type": "code",
   "execution_count": 75,
   "id": "initial_id",
   "metadata": {
    "collapsed": true,
    "ExecuteTime": {
     "end_time": "2024-03-19T16:25:26.835567700Z",
     "start_time": "2024-03-19T16:25:26.818409Z"
    }
   },
   "outputs": [],
   "source": [
    "import pandas as pd\n",
    "import numpy as np"
   ]
  },
  {
   "cell_type": "code",
   "execution_count": 76,
   "outputs": [],
   "source": [
    "df = pd.read_csv('../3ytc61d048/data_3ytc61d048.csv')\n",
    "last_50_columns = df.iloc[:, -50:]\n",
    "last_50_columns_matrix = np.array(last_50_columns)"
   ],
   "metadata": {
    "collapsed": false,
    "ExecuteTime": {
     "end_time": "2024-03-19T16:25:27.547668100Z",
     "start_time": "2024-03-19T16:25:27.517651500Z"
    }
   },
   "id": "b892b6dcff1cb0c7"
  },
  {
   "cell_type": "code",
   "execution_count": 77,
   "outputs": [
    {
     "ename": "AttributeError",
     "evalue": "'numpy.ndarray' object has no attribute 'dropna'",
     "output_type": "error",
     "traceback": [
      "\u001B[1;31m---------------------------------------------------------------------------\u001B[0m",
      "\u001B[1;31mAttributeError\u001B[0m                            Traceback (most recent call last)",
      "Cell \u001B[1;32mIn[77], line 10\u001B[0m\n\u001B[0;32m      7\u001B[0m     \u001B[38;5;28;01mreturn\u001B[39;00m np\u001B[38;5;241m.\u001B[39marray(index) \u001B[38;5;28;01mif\u001B[39;00m \u001B[38;5;129;01mnot\u001B[39;00m index\u001B[38;5;241m.\u001B[39mempty \u001B[38;5;28;01melse\u001B[39;00m np\u001B[38;5;241m.\u001B[39mnan\n\u001B[0;32m      9\u001B[0m indexes \u001B[38;5;241m=\u001B[39m find_index_of_spikes(last_50_columns, \u001B[38;5;241m10.0\u001B[39m)\n\u001B[1;32m---> 10\u001B[0m \u001B[43mindexes\u001B[49m\u001B[38;5;241;43m.\u001B[39;49m\u001B[43mdropna\u001B[49m(inplace\u001B[38;5;241m=\u001B[39m\u001B[38;5;28;01mTrue\u001B[39;00m)\n\u001B[0;32m     11\u001B[0m max_len \u001B[38;5;241m=\u001B[39m \u001B[38;5;28mmax\u001B[39m(\u001B[38;5;28mmap\u001B[39m(\u001B[38;5;28mlen\u001B[39m, indexes))\n\u001B[0;32m     12\u001B[0m filled_lists \u001B[38;5;241m=\u001B[39m [\u001B[38;5;28mlist\u001B[39m(\u001B[38;5;28mfilter\u001B[39m(\u001B[38;5;28;01mNone\u001B[39;00m, x)) \u001B[38;5;241m+\u001B[39m [np\u001B[38;5;241m.\u001B[39mnan] \u001B[38;5;241m*\u001B[39m (max_len \u001B[38;5;241m-\u001B[39m \u001B[38;5;28mlen\u001B[39m(x)) \u001B[38;5;28;01mfor\u001B[39;00m x \u001B[38;5;129;01min\u001B[39;00m indexes]\n",
      "\u001B[1;31mAttributeError\u001B[0m: 'numpy.ndarray' object has no attribute 'dropna'"
     ]
    }
   ],
   "source": [
    "def find_index_of_spikes_matrix(matrix, spike_value):\n",
    "    index = np.argwhere(matrix == spike_value)\n",
    "    return np.array(index) if not index.empty else np.nan\n",
    "\n",
    "def find_index_of_spikes(column, spike_value):\n",
    "    index = column[column == spike_value].index\n",
    "    return np.array(index) if not index.empty else np.nan\n",
    "\n",
    "indexes = find_index_of_spikes(last_50_columns, 10.0)\n",
    "indexes.dropna(inplace=True)\n",
    "max_len = max(map(len, indexes))\n",
    "filled_lists = [list(filter(None, x)) + [np.nan] * (max_len - len(x)) for x in indexes]\n",
    "\n",
    "def find_tau_max(matrix, dt):\n",
    "\n",
    "    count = 0\n",
    "    sum_diff = 0\n",
    "    for col in range(matrix.shape[1]):\n",
    "        for i in range(len(matrix[:, col])):\n",
    "            if not np.isnan(matrix[i][col]):\n",
    "                for j in range(i + 1, len(matrix[:, col])):\n",
    "                    if not np.isnan(matrix[j][col]):\n",
    "                        sum_diff += abs(matrix[i][col] - matrix[j][col])\n",
    "                        count += 1\n",
    "    if count != 0:\n",
    "        return (sum_diff / count) * 2 * dt\n",
    "    else:\n",
    "        return 'No spikes'\n",
    "\n",
    "result = find_tau_max(filled_lists, 0.1)\n",
    "result"
   ],
   "metadata": {
    "collapsed": false,
    "ExecuteTime": {
     "end_time": "2024-03-19T16:25:28.418913400Z",
     "start_time": "2024-03-19T16:25:28.379821900Z"
    }
   },
   "id": "c68db2e75c870363"
  },
  {
   "cell_type": "code",
   "execution_count": 43,
   "outputs": [
    {
     "name": "stdout",
     "output_type": "stream",
     "text": [
      "true\n"
     ]
    }
   ],
   "source": [
    "\n",
    "df = pd.read_csv('../gl1654pv3d/syn_gl1654pv3d.csv')\n",
    "arr = np.array(df)\n",
    "\n",
    "def find_indices_above_diagonal(matrix, value):\n",
    "    indixes = np.argwhere(np.triu(matrix, k=1) == value)\n",
    "    return indixes\n",
    "\n",
    "indexes = find_indices_above_diagonal(arr, 10)\n",
    "if 4 in indexes[:, 1]:\n",
    "    print\n",
    "    \n",
    "    "
   ],
   "metadata": {
    "collapsed": false,
    "ExecuteTime": {
     "end_time": "2024-03-19T14:53:19.212181600Z",
     "start_time": "2024-03-19T14:53:19.164918600Z"
    }
   },
   "id": "d81aa1843c7057a6"
  },
  {
   "cell_type": "code",
   "execution_count": 68,
   "outputs": [
    {
     "name": "stdout",
     "output_type": "stream",
     "text": [
      "1\n",
      "2\n",
      "3\n"
     ]
    }
   ],
   "source": [
    "filtered_rows = indexes[indexes[:,1] == 4]\n",
    "result_values = filtered_rows[:,0]\n",
    "#print(result_values, type(result_values))\n",
    "for item in result_values:\n",
    "    print(item)"
   ],
   "metadata": {
    "collapsed": false,
    "ExecuteTime": {
     "end_time": "2024-03-19T16:04:25.747346500Z",
     "start_time": "2024-03-19T16:04:25.712962600Z"
    }
   },
   "id": "b8705c68cb02d15a"
  },
  {
   "cell_type": "code",
   "execution_count": 70,
   "outputs": [
    {
     "data": {
      "text/plain": "11"
     },
     "execution_count": 70,
     "metadata": {},
     "output_type": "execute_result"
    }
   ],
   "source": [
    "a = 10\n",
    "a += 1\n",
    "a"
   ],
   "metadata": {
    "collapsed": false,
    "ExecuteTime": {
     "end_time": "2024-03-19T16:06:48.399811500Z",
     "start_time": "2024-03-19T16:06:48.379805800Z"
    }
   },
   "id": "64ea2778477a51f7"
  },
  {
   "cell_type": "code",
   "execution_count": 65,
   "outputs": [
    {
     "ename": "IndexError",
     "evalue": "index 0 is out of bounds for axis 0 with size 0",
     "output_type": "error",
     "traceback": [
      "\u001B[1;31m---------------------------------------------------------------------------\u001B[0m",
      "\u001B[1;31mIndexError\u001B[0m                                Traceback (most recent call last)",
      "Cell \u001B[1;32mIn[65], line 1\u001B[0m\n\u001B[1;32m----> 1\u001B[0m \u001B[43mresult_values\u001B[49m\u001B[43m[\u001B[49m\u001B[38;5;241;43m0\u001B[39;49m\u001B[43m]\u001B[49m\n",
      "\u001B[1;31mIndexError\u001B[0m: index 0 is out of bounds for axis 0 with size 0"
     ]
    }
   ],
   "source": [
    "result_values[0]"
   ],
   "metadata": {
    "collapsed": false,
    "ExecuteTime": {
     "end_time": "2024-03-19T16:03:43.872705100Z",
     "start_time": "2024-03-19T16:03:43.835708100Z"
    }
   },
   "id": "53fc3122c2358225"
  },
  {
   "cell_type": "code",
   "execution_count": null,
   "outputs": [],
   "source": [],
   "metadata": {
    "collapsed": false
   },
   "id": "245055091bf0cd1f"
  }
 ],
 "metadata": {
  "kernelspec": {
   "display_name": "Python 3",
   "language": "python",
   "name": "python3"
  },
  "language_info": {
   "codemirror_mode": {
    "name": "ipython",
    "version": 2
   },
   "file_extension": ".py",
   "mimetype": "text/x-python",
   "name": "python",
   "nbconvert_exporter": "python",
   "pygments_lexer": "ipython2",
   "version": "2.7.6"
  }
 },
 "nbformat": 4,
 "nbformat_minor": 5
}
