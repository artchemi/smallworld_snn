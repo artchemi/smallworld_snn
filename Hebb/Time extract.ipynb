{
 "cells": [
  {
   "cell_type": "code",
   "execution_count": 1,
   "id": "initial_id",
   "metadata": {
    "collapsed": true,
    "ExecuteTime": {
     "end_time": "2024-03-23T15:34:12.459683100Z",
     "start_time": "2024-03-23T15:34:10.174609600Z"
    }
   },
   "outputs": [],
   "source": [
    "import pandas as pd\n",
    "import numpy as np\n",
    "from utils import *"
   ]
  },
  {
   "cell_type": "code",
   "execution_count": 63,
   "outputs": [],
   "source": [
    "df = pd.read_csv('../3ytc61d048/data_3ytc61d048.csv')\n",
    "last_50_columns = df.iloc[:, -50:]\n",
    "last_50_columns_matrix = np.array(last_50_columns)"
   ],
   "metadata": {
    "collapsed": false,
    "ExecuteTime": {
     "end_time": "2024-03-20T12:49:39.174029300Z",
     "start_time": "2024-03-20T12:49:39.131142300Z"
    }
   },
   "id": "b892b6dcff1cb0c7"
  },
  {
   "cell_type": "code",
   "execution_count": 64,
   "outputs": [
    {
     "ename": "TypeError",
     "evalue": "'list' object is not callable",
     "output_type": "error",
     "traceback": [
      "\u001B[1;31m---------------------------------------------------------------------------\u001B[0m",
      "\u001B[1;31mTypeError\u001B[0m                                 Traceback (most recent call last)",
      "Cell \u001B[1;32mIn[64], line 12\u001B[0m\n\u001B[0;32m     10\u001B[0m indexes\u001B[38;5;241m.\u001B[39mdropna(inplace\u001B[38;5;241m=\u001B[39m\u001B[38;5;28;01mTrue\u001B[39;00m)\n\u001B[0;32m     11\u001B[0m max_len \u001B[38;5;241m=\u001B[39m \u001B[38;5;28mmax\u001B[39m(\u001B[38;5;28mmap\u001B[39m(\u001B[38;5;28mlen\u001B[39m, indexes))\n\u001B[1;32m---> 12\u001B[0m filled_lists \u001B[38;5;241m=\u001B[39m [\u001B[38;5;28mlist\u001B[39m(\u001B[38;5;28mfilter\u001B[39m(\u001B[38;5;28;01mNone\u001B[39;00m, x)) \u001B[38;5;241m+\u001B[39m [np\u001B[38;5;241m.\u001B[39mnan] \u001B[38;5;241m*\u001B[39m (max_len \u001B[38;5;241m-\u001B[39m \u001B[38;5;28mlen\u001B[39m(x)) \u001B[38;5;28;01mfor\u001B[39;00m x \u001B[38;5;129;01min\u001B[39;00m indexes]\n\u001B[0;32m     14\u001B[0m \u001B[38;5;28;01mdef\u001B[39;00m \u001B[38;5;21mfind_tau_max\u001B[39m(matrix, dt):\n\u001B[0;32m     16\u001B[0m     count \u001B[38;5;241m=\u001B[39m \u001B[38;5;241m0\u001B[39m\n",
      "Cell \u001B[1;32mIn[64], line 12\u001B[0m, in \u001B[0;36m<listcomp>\u001B[1;34m(.0)\u001B[0m\n\u001B[0;32m     10\u001B[0m indexes\u001B[38;5;241m.\u001B[39mdropna(inplace\u001B[38;5;241m=\u001B[39m\u001B[38;5;28;01mTrue\u001B[39;00m)\n\u001B[0;32m     11\u001B[0m max_len \u001B[38;5;241m=\u001B[39m \u001B[38;5;28mmax\u001B[39m(\u001B[38;5;28mmap\u001B[39m(\u001B[38;5;28mlen\u001B[39m, indexes))\n\u001B[1;32m---> 12\u001B[0m filled_lists \u001B[38;5;241m=\u001B[39m [\u001B[38;5;28;43mlist\u001B[39;49m\u001B[43m(\u001B[49m\u001B[38;5;28;43mfilter\u001B[39;49m\u001B[43m(\u001B[49m\u001B[38;5;28;43;01mNone\u001B[39;49;00m\u001B[43m,\u001B[49m\u001B[43m \u001B[49m\u001B[43mx\u001B[49m\u001B[43m)\u001B[49m\u001B[43m)\u001B[49m \u001B[38;5;241m+\u001B[39m [np\u001B[38;5;241m.\u001B[39mnan] \u001B[38;5;241m*\u001B[39m (max_len \u001B[38;5;241m-\u001B[39m \u001B[38;5;28mlen\u001B[39m(x)) \u001B[38;5;28;01mfor\u001B[39;00m x \u001B[38;5;129;01min\u001B[39;00m indexes]\n\u001B[0;32m     14\u001B[0m \u001B[38;5;28;01mdef\u001B[39;00m \u001B[38;5;21mfind_tau_max\u001B[39m(matrix, dt):\n\u001B[0;32m     16\u001B[0m     count \u001B[38;5;241m=\u001B[39m \u001B[38;5;241m0\u001B[39m\n",
      "\u001B[1;31mTypeError\u001B[0m: 'list' object is not callable"
     ]
    }
   ],
   "source": [
    "def find_index_of_spikes_matrix(matrix, spike_value):\n",
    "    index = np.argwhere(matrix == spike_value)\n",
    "    return np.array(index) if not index.empty else np.nan\n",
    "\n",
    "def find_index_of_spikes(column, spike_value):\n",
    "    index = column[column == spike_value].index\n",
    "    return np.array(index) if not index.empty else np.nan\n",
    "\n",
    "indexes = last_50_columns.apply(find_index_of_spikes, args=(10.0,))\n",
    "indexes.dropna(inplace=True)\n",
    "max_len = max(map(len, indexes))\n",
    "filled_lists = [list(filter(None, x)) + [np.nan] * (max_len - len(x)) for x in indexes]\n",
    "\n",
    "def find_tau_max(matrix, dt):\n",
    "\n",
    "    count = 0\n",
    "    sum_diff = 0\n",
    "    for col in range(matrix.shape[1]):\n",
    "        for i in range(len(matrix[:, col])):\n",
    "            if not np.isnan(matrix[i][col]):\n",
    "                for j in range(i + 1, len(matrix[:, col])):\n",
    "                    if not np.isnan(matrix[j][col]):\n",
    "                        sum_diff += abs(matrix[i][col] - matrix[j][col])\n",
    "                        count += 1\n",
    "    if count != 0:\n",
    "        return (sum_diff / count) * 2 * dt\n",
    "    else:\n",
    "        return 'No spikes'\n",
    "\n",
    "result = find_tau_max(filled_lists, 0.1)\n",
    "result"
   ],
   "metadata": {
    "collapsed": false,
    "ExecuteTime": {
     "end_time": "2024-03-20T12:49:39.520152Z",
     "start_time": "2024-03-20T12:49:39.458153800Z"
    }
   },
   "id": "c68db2e75c870363"
  },
  {
   "cell_type": "code",
   "execution_count": 5,
   "outputs": [
    {
     "data": {
      "text/plain": "array([[ 0,  1],\n       [ 0,  3],\n       [ 0,  4],\n       ...,\n       [47, 48],\n       [47, 49],\n       [48, 49]], dtype=int64)"
     },
     "execution_count": 5,
     "metadata": {},
     "output_type": "execute_result"
    }
   ],
   "source": [
    "df = pd.read_csv('../56e130m538/syn_56e130m538.csv')\n",
    "arr = np.array(df)\n",
    "\n",
    "def find_indices_above_diagonal(matrix, value):\n",
    "    indixes = np.argwhere(np.triu(matrix, k=1) == value)\n",
    "    return indixes\n",
    "\n",
    "indexes = find_indices_above_diagonal(arr, 10)\n",
    "indexes"
   ],
   "metadata": {
    "collapsed": false,
    "ExecuteTime": {
     "end_time": "2024-03-20T11:05:41.999520200Z",
     "start_time": "2024-03-20T11:05:41.969431300Z"
    }
   },
   "id": "d81aa1843c7057a6"
  },
  {
   "cell_type": "code",
   "execution_count": 2,
   "outputs": [
    {
     "ename": "NameError",
     "evalue": "name 'indexes' is not defined",
     "output_type": "error",
     "traceback": [
      "\u001B[1;31m---------------------------------------------------------------------------\u001B[0m",
      "\u001B[1;31mNameError\u001B[0m                                 Traceback (most recent call last)",
      "Cell \u001B[1;32mIn[2], line 3\u001B[0m\n\u001B[0;32m      1\u001B[0m unique_values_mapping \u001B[38;5;241m=\u001B[39m {}\n\u001B[1;32m----> 3\u001B[0m \u001B[38;5;28;01mfor\u001B[39;00m row \u001B[38;5;129;01min\u001B[39;00m \u001B[43mindexes\u001B[49m:\n\u001B[0;32m      4\u001B[0m     key \u001B[38;5;241m=\u001B[39m \u001B[38;5;28mtuple\u001B[39m(row)\n\u001B[0;32m      5\u001B[0m     \u001B[38;5;28;01mif\u001B[39;00m key[\u001B[38;5;241m1\u001B[39m] \u001B[38;5;129;01mnot\u001B[39;00m \u001B[38;5;129;01min\u001B[39;00m unique_values_mapping:\n",
      "\u001B[1;31mNameError\u001B[0m: name 'indexes' is not defined"
     ]
    }
   ],
   "source": [
    "unique_values_mapping = {}\n",
    "\n",
    "for row in indexes:\n",
    "    key = tuple(row)\n",
    "    if key[1] not in unique_values_mapping:\n",
    "        unique_values_mapping[key[1]] = [key[0]]\n",
    "    else:\n",
    "        unique_values_mapping[key[1]].append(key[0])\n",
    "\n",
    "for values in unique_values_mapping[4]:\n",
    "    print(values)"
   ],
   "metadata": {
    "collapsed": false,
    "ExecuteTime": {
     "end_time": "2024-03-23T15:34:12.805166Z",
     "start_time": "2024-03-23T15:34:12.463650900Z"
    }
   },
   "id": "21126f8999885ab4"
  },
  {
   "cell_type": "code",
   "execution_count": 51,
   "outputs": [
    {
     "ename": "IndexError",
     "evalue": "list index out of range",
     "output_type": "error",
     "traceback": [
      "\u001B[1;31m---------------------------------------------------------------------------\u001B[0m",
      "\u001B[1;31mIndexError\u001B[0m                                Traceback (most recent call last)",
      "Cell \u001B[1;32mIn[51], line 2\u001B[0m\n\u001B[0;32m      1\u001B[0m \u001B[38;5;28mlist\u001B[39m \u001B[38;5;241m=\u001B[39m [\u001B[38;5;241m1\u001B[39m ,\u001B[38;5;241m2\u001B[39m, \u001B[38;5;241m3\u001B[39m,\u001B[38;5;241m4\u001B[39m,\u001B[38;5;241m42\u001B[39m,\u001B[38;5;241m4\u001B[39m]\n\u001B[1;32m----> 2\u001B[0m \u001B[38;5;28;43mlist\u001B[39;49m\u001B[43m[\u001B[49m\u001B[38;5;241;43m-\u001B[39;49m\u001B[38;5;241;43m10\u001B[39;49m\u001B[43m]\u001B[49m\n",
      "\u001B[1;31mIndexError\u001B[0m: list index out of range"
     ]
    }
   ],
   "source": [
    "list = [1 ,2, 3,4,42,4]\n",
    "list[-10]"
   ],
   "metadata": {
    "collapsed": false,
    "ExecuteTime": {
     "end_time": "2024-03-20T11:58:34.506121300Z",
     "start_time": "2024-03-20T11:58:34.457538100Z"
    }
   },
   "id": "b8705c68cb02d15a"
  },
  {
   "cell_type": "code",
   "execution_count": 3,
   "outputs": [],
   "source": [
    "def dict_with_connections(matrix, value):\n",
    "    \n",
    "    '''\n",
    "    Функция для получения словаря с нейронами, у которых\n",
    "    однонаправленная связь (выше диагонали).\n",
    "    \n",
    "    Params:\n",
    "\n",
    "    matrix (np.array): Матрица со значениями весов\n",
    "    value (float): Значение весов \n",
    "\n",
    "    Returns:\n",
    "    unique_values_mapping (Dict): Словарь с индексами \n",
    "    нейронов, у которых присутсвует однонаправленная связь.\n",
    "    '''\n",
    "\n",
    "    indixes = np.argwhere(np.triu(matrix, k=1) == value)\n",
    "    \n",
    "    unique_values_mapping = {}\n",
    "\n",
    "    for row in indixes:\n",
    "        key = tuple(row)\n",
    "        if key[1] not in unique_values_mapping:\n",
    "            unique_values_mapping[key[1]] = [key[0]]\n",
    "        else:\n",
    "            unique_values_mapping[key[1]].append(key[0])\n",
    "\n",
    "    return unique_values_mapping\n",
    "\n",
    "\n"
   ],
   "metadata": {
    "collapsed": false,
    "ExecuteTime": {
     "end_time": "2024-03-23T15:34:16.176473500Z",
     "start_time": "2024-03-23T15:34:16.120538600Z"
    }
   },
   "id": "196caa21b3dcfb45"
  },
  {
   "cell_type": "code",
   "execution_count": null,
   "outputs": [],
   "source": [],
   "metadata": {
    "collapsed": false
   },
   "id": "a66cb0c93b17d44c"
  },
  {
   "cell_type": "code",
   "execution_count": 8,
   "outputs": [
    {
     "data": {
      "text/plain": "{1: [0],\n 2: [0, 1],\n 3: [0, 1, 2],\n 4: [0, 1, 2, 3],\n 5: [0, 1, 2, 3],\n 6: [0, 1, 2, 3, 4, 5],\n 7: [0, 1, 3, 4, 5, 6],\n 8: [0, 1, 2, 3, 4, 5, 6, 7],\n 9: [0, 2, 3, 4, 5, 6, 7, 8],\n 10: [0, 1, 2, 3, 5, 6, 7, 8, 9],\n 11: [0, 2, 3, 4, 5, 6, 7, 8, 9, 10],\n 12: [0, 1, 2, 3, 4, 5, 6, 7, 8, 9, 10, 11],\n 24: [0, 3, 13, 14, 15, 16, 17, 18, 19, 20, 21, 22, 23],\n 37: [0, 1, 26, 27, 28, 29, 30, 31, 32, 33, 34, 35, 36],\n 38: [0, 11, 23, 26, 28, 29, 30, 31, 32, 33, 35, 36, 37],\n 39: [0, 1, 7, 25, 26, 28, 29, 30, 31, 32, 33, 36, 37, 38],\n 40: [0, 1, 18, 24, 27, 28, 29, 30, 31, 32, 33, 34, 35, 36, 37, 38, 39],\n 41: [0, 1, 2, 3, 14, 29, 30, 31, 32, 33, 34, 35, 36, 37, 38, 39, 40],\n 42: [0, 1, 2, 3, 4, 5, 30, 31, 32, 33, 34, 35, 36, 37, 38, 40, 41],\n 43: [0, 1, 2, 3, 5, 8, 10, 20, 26, 33, 35, 36, 37, 40, 41],\n 44: [0, 1, 2, 3, 4, 5, 6, 32, 33, 35, 36, 37, 40, 41, 43],\n 45: [0, 1, 2, 3, 4, 5, 6, 7, 33, 34, 35, 36, 38, 39, 40, 41, 42, 44],\n 46: [0, 1, 2, 3, 4, 5, 6, 7, 8, 23, 29, 35, 36, 37, 38, 40, 41, 43, 45],\n 47: [0,\n  1,\n  2,\n  3,\n  4,\n  5,\n  6,\n  7,\n  8,\n  17,\n  30,\n  32,\n  35,\n  36,\n  37,\n  38,\n  40,\n  41,\n  43,\n  44,\n  45,\n  46],\n 48: [0, 1, 2, 3, 4, 5, 6, 7, 8, 9, 10, 22, 36, 37, 40, 41, 43, 45, 47],\n 49: [0, 1, 2, 3, 4, 5, 6, 7, 8, 9, 10, 25, 37, 40, 41, 43, 45, 47],\n 27: [1, 15, 16, 17, 18, 19, 20, 21, 22, 23, 24, 25],\n 29: [1, 4, 8, 17, 18, 19, 20, 21, 22, 23, 24, 25, 26, 27],\n 13: [2, 3, 4, 5, 6, 7, 9, 10, 11, 12],\n 14: [2, 3, 4, 5, 6, 7, 8, 9, 10, 11, 12, 13],\n 21: [2, 9, 11, 12, 13, 14, 15, 16, 19, 20],\n 32: [2, 4, 5, 17, 18, 20, 21, 22, 23, 24, 25, 26, 27, 28, 29, 30, 31],\n 15: [3, 4, 5, 6, 7, 9, 10, 11, 12, 13, 14],\n 18: [3, 7, 8, 9, 10, 11, 12, 13, 14, 15, 16, 17],\n 16: [4, 5, 6, 7, 8, 9, 10, 11, 12, 13, 14, 15],\n 17: [5, 6, 7, 8, 9, 10, 11, 12, 13, 14, 15, 16],\n 33: [5, 8, 21, 22, 24, 25, 26, 27, 28, 30, 31],\n 19: [7, 8, 9, 10, 11, 12, 13, 14, 15, 16, 17],\n 28: [7, 14, 16, 18, 19, 20, 21, 22, 23, 24, 25, 26, 27],\n 31: [8, 19, 20, 21, 22, 23, 24, 25, 26, 27, 28, 29, 30],\n 20: [9, 10, 11, 12, 15, 16, 17, 18, 19],\n 25: [9, 12, 13, 14, 15, 16, 17, 18, 19, 20, 21, 22, 23],\n 35: [9, 23, 24, 25, 27, 29, 30, 31, 32, 33, 34],\n 22: [10, 11, 12, 13, 14, 15, 16, 17, 18, 19, 20, 21],\n 23: [11, 12, 13, 14, 15, 16, 17, 18, 19, 20, 21, 22],\n 26: [12, 14, 15, 16, 17, 18, 19, 20, 21, 22, 23, 25],\n 36: [13, 24, 25, 26, 27, 28, 29, 30, 31, 32, 34, 35],\n 30: [18, 19, 20, 22, 23, 24, 25, 26, 27, 28, 29],\n 34: [23, 24, 25, 26, 28, 29, 30, 31, 32, 33]}"
     },
     "execution_count": 8,
     "metadata": {},
     "output_type": "execute_result"
    }
   ],
   "source": [
    "df = pd.read_csv('../16qk1g8a81/syn_16qk1g8a81.csv')\n",
    "df = np.array(df)\n",
    "values = dict_with_connections(df, 10)\n",
    "values"
   ],
   "metadata": {
    "collapsed": false,
    "ExecuteTime": {
     "end_time": "2024-03-23T15:36:08.749749900Z",
     "start_time": "2024-03-23T15:36:08.673773900Z"
    }
   },
   "id": "8bed14aae8b1763"
  },
  {
   "cell_type": "code",
   "execution_count": null,
   "outputs": [],
   "source": [],
   "metadata": {
    "collapsed": false
   },
   "id": "7ade0072673a55e4"
  }
 ],
 "metadata": {
  "kernelspec": {
   "display_name": "Python 3",
   "language": "python",
   "name": "python3"
  },
  "language_info": {
   "codemirror_mode": {
    "name": "ipython",
    "version": 2
   },
   "file_extension": ".py",
   "mimetype": "text/x-python",
   "name": "python",
   "nbconvert_exporter": "python",
   "pygments_lexer": "ipython2",
   "version": "2.7.6"
  }
 },
 "nbformat": 4,
 "nbformat_minor": 5
}
